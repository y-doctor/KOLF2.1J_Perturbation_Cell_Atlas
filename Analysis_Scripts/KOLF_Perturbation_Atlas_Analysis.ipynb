{
 "cells": [
  {
   "cell_type": "markdown",
   "metadata": {},
   "source": [
    "Imports"
   ]
  },
  {
   "cell_type": "code",
   "execution_count": 1,
   "metadata": {},
   "outputs": [],
   "source": [
    "import psp"
   ]
  },
  {
   "cell_type": "markdown",
   "metadata": {},
   "source": [
    "## Initial data quality control and cleaning"
   ]
  },
  {
   "cell_type": "markdown",
   "metadata": {},
   "source": [
    "Performs the default quality control pipeline.\n",
    "    \n",
    "    Parameters:\n",
    "    ----------\n",
    "    input_dict : dict\n",
    "        Dictionary containing the following required keys:\n",
    "        - 'mtx_dir': Path to the filtered_matrix_mex directory\n",
    "        - 'save_directory': Path where to save the .h5mu file after reading in the 10x matrix\n",
    "        - 'protospacer_calls_file': Path to protospacer_calls_per_cell.csv\n",
    "        - 'aggregation_csv': Path to aggregation_csv file\n",
    "        - 'cell_type': String describing the cell type\n",
    "        - 'perturbation_type': String describing the perturbation type\n",
    "        - 'pre_qc_save_path': Path where to save the data after sgRNA assignment but before QC filtering\n",
    "        - 'final_save_path': Path where to save the final QC-filtered data\n",
    "        - 'gene_id_filepath': Path to the file containing gene-to-Ensembl ID mappings\n",
    "        - 'obs_key': The key in .obs where the gene_target_ensembl_id will be stored\n",
    "        - 'var_key': The key in .var corresponding to gene_ids in ENSEMBL format\n",
    "        - 'ntc_label': Label for non-targeting control cells in the gene_id_filepath\n",
    "        \n",
    "    Optional parameters in input_dict:\n",
    "        - 'mt_MADs': Number of MADs for mitochondrial filtering (default: 5)\n",
    "        - 'count_MADs': Number of MADs for count filtering (default: 5)\n",
    "        - 'ribo_MADs': Number of MADs for ribosomal filtering (default: 5)\n",
    "        - 'treatment_dict': Dictionary mapping cell barcodes to treatments\n",
    "        \n",
    "    Returns:\n",
    "    -------\n",
    "    ad.AnnData\n",
    "        Processed and quality-controlled AnnData object\n",
    "    \"\"\""
   ]
  },
  {
   "cell_type": "code",
   "execution_count": null,
   "metadata": {},
   "outputs": [],
   "source": [
    "mtx_dir = \"/tscc/projects/ps-malilab/ydoctor/iPSC_Pan_Genome/Pan_Genome/cellranger_files/Aggregate/KOLF_Pan_Genome_Aggregate_10x_Analysis_Aggregate/SC_RNA_AGGREGATOR_CS/COUNT_AGGR/SC_RNA_AGGREGATOR/WRITE_MATRICES/fork0/files/filtered_matrix_mex\"\n",
    "save_directory = \"/tscc/projects/ps-malilab/ydoctor/iPSC_Pan_Genome/Pan_TF/adata_files/KOLF_Pan_Genome_Aggregate.h5mu\"\n",
    "protospacer_calls_file = \"/tscc/projects/ps-malilab/ydoctor/iPSC_Pan_Genome/Pan_Genome/adata_files/protospacer_calls_per_cell.csv\"\n",
    "aggregation_csv = \"/tscc/projects/ps-malilab/ydoctor/iPSC_Pan_Genome/Pan_TF/adata_files/aggregation_csv.csv\"\n",
    "cell_type = \"KRAB-ZIM3-dCas9 KOLF2.1J hiPSC\"\n",
    "perturbation_type = \"CRISPRi\"\n",
    "pre_qc_save_path = \"/tscc/projects/ps-malilab/ydoctor/iPSC_Pan_Genome/Pan_TF/adata_files/KOLF_Pan_Genome_Pre_QC.h5mu\"\n",
    "final_save_path = \"/tscc/projects/ps-malilab/ydoctor/iPSC_Pan_Genome/Pan_TF/adata_files/KOLF_Pan_Genome_QC_Filtered.h5mu\"\n",
    "gene_id_filepath = \"/tscc/projects/ps-malilab/ydoctor/iPSC_Pan_Genome/Pan_TF/adata_files/gene_id_filepath.csv\"\n",
    "obs_key = \"gene_target_ensembl_id\"\n",
    "var_key = \"gene_ids\"\n",
    "ntc_label = \"NTC\"\n",
    "\n",
    "\n"
   ]
  }
 ],
 "metadata": {
  "kernelspec": {
   "display_name": "Python 3 (ipykernel)",
   "language": "python",
   "name": "python3"
  }
 },
 "nbformat": 4,
 "nbformat_minor": 2
}
