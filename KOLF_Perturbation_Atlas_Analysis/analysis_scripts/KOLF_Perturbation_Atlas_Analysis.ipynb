{
 "cells": [
  {
   "cell_type": "markdown",
   "metadata": {},
   "source": [
    "Imports"
   ]
  },
  {
   "cell_type": "code",
   "execution_count": 2,
   "metadata": {},
   "outputs": [],
   "source": [
    "import psp"
   ]
  },
  {
   "cell_type": "markdown",
   "metadata": {},
   "source": [
    "## Initial data quality control and cleaning"
   ]
  },
  {
   "cell_type": "code",
   "execution_count": null,
   "metadata": {},
   "outputs": [],
   "source": [
    "mtx_dir = \"/tscc/projects/ps-malilab/ydoctor/KOLF_Perturbation_Atlas/KOLF_Perturbation_Atlas_Analysis/input_files/anndata_objects/filtered_matrix_mex\"\n",
    "save_directory = \"/tscc/projects/ps-malilab/ydoctor/KOLF_Perturbation_Atlas/KOLF_Perturbation_Atlas_Analysis/input_files/anndata_objects/KOLF_Pan_Genome_Aggregate.h5mu\"\n",
    "protospacer_calls_file = \"/tscc/projects/ps-malilab/ydoctor/KOLF_Perturbation_Atlas/KOLF_Perturbation_Atlas_Analysis/input_files/protospacer_calls_per_cell.csv\"\n",
    "aggregation_csv = \"/tscc/projects/ps-malilab/ydoctor/iPSC_Pan_Genome/Pan_TF/adata_files/aggregation_csv.csv\"\n",
    "cell_type = \"KRAB-ZIM3-dCas9 KOLF2.1J hiPSC\"\n",
    "perturbation_type = \"CRISPRi\"\n",
    "pre_qc_save_path = \"/tscc/projects/ps-malilab/ydoctor/KOLF_Perturbation_Atlas/KOLF_Perturbation_Atlas_Analysis/input_files/anndata_objects/KOLF_Pan_Genome_Pre_QC.h5mu\"\n",
    "final_save_path = \"/tscc/projects/ps-malilab/ydoctor/KOLF_Perturbation_Atlas/KOLF_Perturbation_Atlas_Analysis/input_files/anndata_objects/KOLF_Pan_Genome_QC_Filtered.h5mu\"\n",
    "gene_id_filepath = \"/tscc/projects/ps-malilab/ydoctor/KOLF_Perturbation_Atlas/KOLF_Perturbation_Atlas_Analysis/input_files/gene_ids.txt\"\n",
    "obs_key = \"gene_target_ensembl_id\"\n",
    "var_key = \"gene_ids\"\n",
    "ntc_label = \"NTC\"\n",
    "\n",
    "input_dict = {\n",
    "    \"mtx_dir\": mtx_dir,\n",
    "    \"save_directory\": save_directory,\n",
    "    \"protospacer_calls_file\": protospacer_calls_file,\n",
    "    \"aggregation_csv\": aggregation_csv,\n",
    "    \"cell_type\": cell_type,\n",
    "    \"perturbation_type\": perturbation_type,\n",
    "    \"pre_qc_save_path\": pre_qc_save_path,\n",
    "    \"final_save_path\": final_save_path,\n",
    "    \"gene_id_filepath\": gene_id_filepath,\n",
    "    \"obs_key\": obs_key,\n",
    "    \"var_key\": var_key,\n",
    "    \"ntc_label\": ntc_label\n",
    "}\n",
    "\n",
    "adata = psp.qc.default_qc_pipeline(input_dict)"
   ]
  }
 ],
 "metadata": {
  "kernelspec": {
   "display_name": "Python 3 (ipykernel)",
   "language": "python",
   "name": "python3"
  }
 },
 "nbformat": 4,
 "nbformat_minor": 2
}
